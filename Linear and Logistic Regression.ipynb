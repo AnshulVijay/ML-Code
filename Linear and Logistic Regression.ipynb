{
 "cells": [
  {
   "cell_type": "markdown",
   "metadata": {},
   "source": [
    "# Task-A: Binary Classification"
   ]
  },
  {
   "cell_type": "code",
   "execution_count": 1,
   "metadata": {},
   "outputs": [],
   "source": [
    "import pandas as pd\n",
    "import numpy as np"
   ]
  },
  {
   "cell_type": "markdown",
   "metadata": {},
   "source": [
    "## Data Munging"
   ]
  },
  {
   "cell_type": "markdown",
   "metadata": {},
   "source": [
    "### Reading Data"
   ]
  },
  {
   "cell_type": "code",
   "execution_count": 2,
   "metadata": {},
   "outputs": [
    {
     "name": "stdout",
     "output_type": "stream",
     "text": [
      "30\n",
      "30\n"
     ]
    }
   ],
   "source": [
    "trainData = pd.DataFrame(pd.read_csv(\"train_wbcd.csv\"))\n",
    "testData  = pd.DataFrame(pd.read_csv(\"test_wbcd.csv\"))\n",
    "trainClass = trainData['Diagnosis']\n",
    "testClass = testData['Diagnosis']\n",
    "print(len(list(trainData))-2)\n",
    "print(len(list(testData))-2)"
   ]
  },
  {
   "cell_type": "code",
   "execution_count": 3,
   "metadata": {},
   "outputs": [
    {
     "name": "stdout",
     "output_type": "stream",
     "text": [
      "LengthOfClassB 58\n",
      "LengthOfClassM 42\n"
     ]
    }
   ],
   "source": [
    "DataClassB = trainData[trainData['Diagnosis']=='B']\n",
    "DataClassM = trainData[trainData['Diagnosis']=='M']\n",
    "\n",
    "print(\"LengthOfClassB\",len(DataClassB))\n",
    "print(\"LengthOfClassM\",len(DataClassM))"
   ]
  },
  {
   "cell_type": "code",
   "execution_count": 4,
   "metadata": {},
   "outputs": [],
   "source": [
    "trainData = trainData.drop(['Diagnosis','Patient_ID'],axis=1).copy()\n",
    "testData = testData.drop(['Diagnosis','Patient_ID'],axis=1).copy()"
   ]
  },
  {
   "cell_type": "markdown",
   "metadata": {},
   "source": [
    "As we can see the ratio of both classes of data is 42/58 is 0.7 so data is fairly balanced. If this ratio would have been below 0.5 then we would have classified this data as unbalanced"
   ]
  },
  {
   "cell_type": "markdown",
   "metadata": {},
   "source": [
    "### Features with missing entries"
   ]
  },
  {
   "cell_type": "code",
   "execution_count": 5,
   "metadata": {},
   "outputs": [],
   "source": [
    "null_data = trainData[trainData.isnull().any(axis=1)]"
   ]
  },
  {
   "cell_type": "code",
   "execution_count": 6,
   "metadata": {},
   "outputs": [
    {
     "data": {
      "text/html": [
       "<div>\n",
       "<style scoped>\n",
       "    .dataframe tbody tr th:only-of-type {\n",
       "        vertical-align: middle;\n",
       "    }\n",
       "\n",
       "    .dataframe tbody tr th {\n",
       "        vertical-align: top;\n",
       "    }\n",
       "\n",
       "    .dataframe thead th {\n",
       "        text-align: right;\n",
       "    }\n",
       "</style>\n",
       "<table border=\"1\" class=\"dataframe\">\n",
       "  <thead>\n",
       "    <tr style=\"text-align: right;\">\n",
       "      <th></th>\n",
       "      <th>70</th>\n",
       "      <th>74</th>\n",
       "    </tr>\n",
       "  </thead>\n",
       "  <tbody>\n",
       "    <tr>\n",
       "      <th>f1</th>\n",
       "      <td>13.620000</td>\n",
       "      <td>12.450000</td>\n",
       "    </tr>\n",
       "    <tr>\n",
       "      <th>f2</th>\n",
       "      <td>23.230000</td>\n",
       "      <td>15.700000</td>\n",
       "    </tr>\n",
       "    <tr>\n",
       "      <th>f3</th>\n",
       "      <td>87.190000</td>\n",
       "      <td>82.570000</td>\n",
       "    </tr>\n",
       "    <tr>\n",
       "      <th>f4</th>\n",
       "      <td>573.200000</td>\n",
       "      <td>477.100000</td>\n",
       "    </tr>\n",
       "    <tr>\n",
       "      <th>f5</th>\n",
       "      <td>0.092460</td>\n",
       "      <td>0.127800</td>\n",
       "    </tr>\n",
       "    <tr>\n",
       "      <th>f6</th>\n",
       "      <td>0.067470</td>\n",
       "      <td>0.170000</td>\n",
       "    </tr>\n",
       "    <tr>\n",
       "      <th>f7</th>\n",
       "      <td>0.029740</td>\n",
       "      <td>0.157800</td>\n",
       "    </tr>\n",
       "    <tr>\n",
       "      <th>f8</th>\n",
       "      <td>0.024430</td>\n",
       "      <td>0.080890</td>\n",
       "    </tr>\n",
       "    <tr>\n",
       "      <th>f9</th>\n",
       "      <td>0.166400</td>\n",
       "      <td>0.208700</td>\n",
       "    </tr>\n",
       "    <tr>\n",
       "      <th>f10</th>\n",
       "      <td>0.058010</td>\n",
       "      <td>0.076130</td>\n",
       "    </tr>\n",
       "    <tr>\n",
       "      <th>f11</th>\n",
       "      <td>0.346000</td>\n",
       "      <td>0.334500</td>\n",
       "    </tr>\n",
       "    <tr>\n",
       "      <th>f12</th>\n",
       "      <td>1.336000</td>\n",
       "      <td>0.890200</td>\n",
       "    </tr>\n",
       "    <tr>\n",
       "      <th>f13</th>\n",
       "      <td>2.066000</td>\n",
       "      <td>2.217000</td>\n",
       "    </tr>\n",
       "    <tr>\n",
       "      <th>f14</th>\n",
       "      <td>31.240000</td>\n",
       "      <td>27.190000</td>\n",
       "    </tr>\n",
       "    <tr>\n",
       "      <th>f15</th>\n",
       "      <td>0.005868</td>\n",
       "      <td>0.007510</td>\n",
       "    </tr>\n",
       "    <tr>\n",
       "      <th>f16</th>\n",
       "      <td>0.020990</td>\n",
       "      <td>0.033450</td>\n",
       "    </tr>\n",
       "    <tr>\n",
       "      <th>f17</th>\n",
       "      <td>0.020210</td>\n",
       "      <td>0.036720</td>\n",
       "    </tr>\n",
       "    <tr>\n",
       "      <th>f18</th>\n",
       "      <td>0.009064</td>\n",
       "      <td>0.011370</td>\n",
       "    </tr>\n",
       "    <tr>\n",
       "      <th>f19</th>\n",
       "      <td>0.020870</td>\n",
       "      <td>0.021650</td>\n",
       "    </tr>\n",
       "    <tr>\n",
       "      <th>f20</th>\n",
       "      <td>0.002583</td>\n",
       "      <td>0.005082</td>\n",
       "    </tr>\n",
       "    <tr>\n",
       "      <th>f21</th>\n",
       "      <td>NaN</td>\n",
       "      <td>NaN</td>\n",
       "    </tr>\n",
       "    <tr>\n",
       "      <th>f22</th>\n",
       "      <td>29.090000</td>\n",
       "      <td>23.750000</td>\n",
       "    </tr>\n",
       "    <tr>\n",
       "      <th>f23</th>\n",
       "      <td>97.580000</td>\n",
       "      <td>103.400000</td>\n",
       "    </tr>\n",
       "    <tr>\n",
       "      <th>f24</th>\n",
       "      <td>729.800000</td>\n",
       "      <td>741.600000</td>\n",
       "    </tr>\n",
       "    <tr>\n",
       "      <th>f25</th>\n",
       "      <td>0.121600</td>\n",
       "      <td>0.179100</td>\n",
       "    </tr>\n",
       "    <tr>\n",
       "      <th>f26</th>\n",
       "      <td>0.151700</td>\n",
       "      <td>0.524900</td>\n",
       "    </tr>\n",
       "    <tr>\n",
       "      <th>f27</th>\n",
       "      <td>0.104900</td>\n",
       "      <td>0.535500</td>\n",
       "    </tr>\n",
       "    <tr>\n",
       "      <th>f28</th>\n",
       "      <td>0.071740</td>\n",
       "      <td>0.174100</td>\n",
       "    </tr>\n",
       "    <tr>\n",
       "      <th>f29</th>\n",
       "      <td>0.264200</td>\n",
       "      <td>0.398500</td>\n",
       "    </tr>\n",
       "    <tr>\n",
       "      <th>f30</th>\n",
       "      <td>0.069530</td>\n",
       "      <td>0.124400</td>\n",
       "    </tr>\n",
       "  </tbody>\n",
       "</table>\n",
       "</div>"
      ],
      "text/plain": [
       "             70          74\n",
       "f1    13.620000   12.450000\n",
       "f2    23.230000   15.700000\n",
       "f3    87.190000   82.570000\n",
       "f4   573.200000  477.100000\n",
       "f5     0.092460    0.127800\n",
       "f6     0.067470    0.170000\n",
       "f7     0.029740    0.157800\n",
       "f8     0.024430    0.080890\n",
       "f9     0.166400    0.208700\n",
       "f10    0.058010    0.076130\n",
       "f11    0.346000    0.334500\n",
       "f12    1.336000    0.890200\n",
       "f13    2.066000    2.217000\n",
       "f14   31.240000   27.190000\n",
       "f15    0.005868    0.007510\n",
       "f16    0.020990    0.033450\n",
       "f17    0.020210    0.036720\n",
       "f18    0.009064    0.011370\n",
       "f19    0.020870    0.021650\n",
       "f20    0.002583    0.005082\n",
       "f21         NaN         NaN\n",
       "f22   29.090000   23.750000\n",
       "f23   97.580000  103.400000\n",
       "f24  729.800000  741.600000\n",
       "f25    0.121600    0.179100\n",
       "f26    0.151700    0.524900\n",
       "f27    0.104900    0.535500\n",
       "f28    0.071740    0.174100\n",
       "f29    0.264200    0.398500\n",
       "f30    0.069530    0.124400"
      ]
     },
     "execution_count": 6,
     "metadata": {},
     "output_type": "execute_result"
    }
   ],
   "source": [
    "(null_data.T)"
   ]
  },
  {
   "cell_type": "markdown",
   "metadata": {},
   "source": [
    "As we can see f21 has got NaN values so it is a feature with missing values"
   ]
  },
  {
   "cell_type": "markdown",
   "metadata": {},
   "source": [
    "### Filling the missing feature values with mean of the respective feature vector"
   ]
  },
  {
   "cell_type": "code",
   "execution_count": 7,
   "metadata": {},
   "outputs": [],
   "source": [
    "trainData = trainData.fillna(trainData.mean())\n",
    "testData = testData.fillna(testData.mean())"
   ]
  },
  {
   "cell_type": "markdown",
   "metadata": {},
   "source": [
    "### Normalizing the Training and Testing Data(Z-Score Normalization)"
   ]
  },
  {
   "cell_type": "code",
   "execution_count": 8,
   "metadata": {},
   "outputs": [
    {
     "name": "stdout",
     "output_type": "stream",
     "text": [
      "Train and Test Data Normalized!!\n"
     ]
    }
   ],
   "source": [
    "for i in range(0,len(trainData.T)):\n",
    "    trainData.T.iloc[i] = ((trainData.T.iloc[i] - np.mean(trainData.T.iloc[i]))/np.std(trainData.T.iloc[i]))\n",
    "    \n",
    "for i in range(0,len(testData.T)):\n",
    "    testData.T.iloc[i] = ((testData.T.iloc[i] - np.mean(testData.T.iloc[i]))/np.std(testData.T.iloc[i]))\n",
    "\n",
    "print('Train and Test Data Normalized!!')"
   ]
  },
  {
   "cell_type": "code",
   "execution_count": 9,
   "metadata": {},
   "outputs": [],
   "source": [
    "trainX = trainData\n",
    "testX = testData\n",
    "trainY = trainClass\n",
    "testY = testClass\n",
    "\n",
    "trainY = trainY.replace(['B','M'],[0,1])\n",
    "testY = testY.replace(['B','M'],[0,1])\n"
   ]
  },
  {
   "cell_type": "markdown",
   "metadata": {},
   "source": [
    "### Data PreProcessing"
   ]
  },
  {
   "cell_type": "code",
   "execution_count": 10,
   "metadata": {},
   "outputs": [],
   "source": [
    "import sklearn\n",
    "from sklearn.linear_model import Lasso\n",
    "from sklearn import metrics\n"
   ]
  },
  {
   "cell_type": "markdown",
   "metadata": {},
   "source": [
    "### Choosing the best hyperparameter"
   ]
  },
  {
   "cell_type": "code",
   "execution_count": 53,
   "metadata": {},
   "outputs": [
    {
     "name": "stdout",
     "output_type": "stream",
     "text": [
      "All of the alphas except 0.1 are giving equal Mean Squared error so all of them are good to use except 0.1\n"
     ]
    }
   ],
   "source": [
    "import sklearn\n",
    "from sklearn.linear_model import Lasso\n",
    "from sklearn import linear_model\n",
    "alphaList = [0.1,1,3,10,33,100,333,1000, 3333, 10000, 33333]\n",
    "crossValMeanScores = []\n",
    "for i in range(0,len(alphaList)):\n",
    "    lasso = linear_model.Lasso(alpha=alphaList[i])    \n",
    "    from sklearn.model_selection import cross_val_score\n",
    "    scores = cross_val_score(lasso, trainX, trainY, cv=10)\n",
    "    crossValMeanScores.append(np.mean(scores))\n",
    "minScore = min(crossValMeanScores)\n",
    "print(\"All of the alphas except 0.1 are giving equal Mean Squared error so all of them are good to use except 0.1\")"
   ]
  },
  {
   "cell_type": "markdown",
   "metadata": {},
   "source": [
    "### Training on Best Hyper Parameter"
   ]
  },
  {
   "cell_type": "code",
   "execution_count": 54,
   "metadata": {},
   "outputs": [
    {
     "name": "stdout",
     "output_type": "stream",
     "text": [
      "Mean Squared Error:  1.833673257176854\n"
     ]
    }
   ],
   "source": [
    "import sklearn \n",
    "from sklearn.linear_model import Lasso\n",
    "\n",
    "regressor = Lasso(random_state=0,alpha=alphaList[2])\n",
    "regressor.fit(trainX,trainY)\n",
    "predLasso = regressor.predict(testX)\n",
    "\n",
    "score = np.sqrt(metrics.mean_squared_error(predLasso,testY))\n",
    "\n",
    "print(\"Mean Squared Error: \",score)"
   ]
  },
  {
   "cell_type": "markdown",
   "metadata": {},
   "source": [
    "### L1 Regression with Best Hyperparameter determined using Cross Validation Approach"
   ]
  },
  {
   "cell_type": "markdown",
   "metadata": {},
   "source": [
    "### Accuracy Score"
   ]
  },
  {
   "cell_type": "code",
   "execution_count": 56,
   "metadata": {},
   "outputs": [
    {
     "name": "stdout",
     "output_type": "stream",
     "text": [
      "Accuracy:  20.37037037037037  %\n"
     ]
    }
   ],
   "source": [
    "predLasso = np.around(predLasso)\n",
    "avgValidation = (sklearn.metrics.accuracy_score(testY,predLasso))*100\n",
    "print(\"Accuracy: \",avgValidation,\" %\")"
   ]
  },
  {
   "cell_type": "markdown",
   "metadata": {},
   "source": [
    "### Precision Score | F1 Scores"
   ]
  },
  {
   "cell_type": "code",
   "execution_count": 14,
   "metadata": {},
   "outputs": [
    {
     "name": "stdout",
     "output_type": "stream",
     "text": [
      "===================\n",
      "Precision | F1 Scores: \n",
      "===================\n",
      "(array([0.7, 0. ]), array([1., 0.]), array([0.82352941, 0.        ]), array([14,  6], dtype=int64))\n"
     ]
    },
    {
     "name": "stderr",
     "output_type": "stream",
     "text": [
      "C:\\Users\\anshu\\Anaconda3\\lib\\site-packages\\sklearn\\metrics\\classification.py:1135: UndefinedMetricWarning: Precision and F-score are ill-defined and being set to 0.0 in labels with no predicted samples.\n",
      "  'precision', 'predicted', average, warn_for)\n"
     ]
    }
   ],
   "source": [
    "precision = (sklearn.metrics.precision_recall_fscore_support(testY,predLasso))\n",
    "print(\"===================\")\n",
    "print(\"Precision | F1 Scores: \")\n",
    "print(\"===================\")\n",
    "print(precision)"
   ]
  },
  {
   "cell_type": "markdown",
   "metadata": {},
   "source": [
    "### Confusion Matrix"
   ]
  },
  {
   "cell_type": "code",
   "execution_count": 15,
   "metadata": {},
   "outputs": [
    {
     "name": "stdout",
     "output_type": "stream",
     "text": [
      "================\n",
      "Confusion Matrix\n",
      "================\n",
      "[[14  0]\n",
      " [ 6  0]]\n"
     ]
    }
   ],
   "source": [
    "confusionMatrix = sklearn.metrics.confusion_matrix(testY,predLasso)\n",
    "\n",
    "print(\"================\")\n",
    "print(\"Confusion Matrix\")\n",
    "print(\"================\")\n",
    "print(confusionMatrix)"
   ]
  },
  {
   "cell_type": "markdown",
   "metadata": {},
   "source": [
    "## Implementing Logistic Regression with L2(Ridge) Regularization"
   ]
  },
  {
   "cell_type": "markdown",
   "metadata": {},
   "source": [
    "### Choosing the best HyperParameter"
   ]
  },
  {
   "cell_type": "code",
   "execution_count": 16,
   "metadata": {},
   "outputs": [
    {
     "name": "stdout",
     "output_type": "stream",
     "text": [
      "The Best Lambda is:  0.001\n"
     ]
    }
   ],
   "source": [
    "import sklearn\n",
    "from sklearn.linear_model import Ridge\n",
    "from sklearn import linear_model\n",
    "lambdaList = [0.001, 0.003, 0.01, 0.03, 0.1,0.3,1,3,10,33]\n",
    "crossValMeanScores = []\n",
    "for i in range(0,len(lambdaList)):\n",
    "    lasso = linear_model.Ridge(alpha=lambdaList[i])    \n",
    "    from sklearn.model_selection import cross_val_score\n",
    "    scores = cross_val_score(lasso, trainX, trainY, cv=10)\n",
    "    crossValMeanScores.append(np.mean(scores))\n",
    "minScore = min(crossValMeanScores)\n",
    "indexMinScore = crossValMeanScores.index(minScore)\n",
    "bestLambda = lambdaList[indexMinScore]\n",
    "print(\"The Best Lambda is: \",bestLambda)\n"
   ]
  },
  {
   "cell_type": "markdown",
   "metadata": {},
   "source": [
    "### Testing on Best Hyperparameter"
   ]
  },
  {
   "cell_type": "code",
   "execution_count": 17,
   "metadata": {},
   "outputs": [
    {
     "name": "stdout",
     "output_type": "stream",
     "text": [
      "Final Root Mean Square Error:  0.368380059468925\n"
     ]
    }
   ],
   "source": [
    "import sklearn\n",
    "from sklearn.linear_model import Ridge\n",
    "\n",
    "regressor = Ridge(alpha=bestLambda)\n",
    "\n",
    "regressor.fit(trainX,trainY)\n",
    "predRidge = regressor.predict(testX)\n",
    "\n",
    "score = np.sqrt(metrics.mean_squared_error(predRidge,testY))\n",
    "\n",
    "print(\"Final Root Mean Square Error: \",(score))"
   ]
  },
  {
   "cell_type": "code",
   "execution_count": 18,
   "metadata": {},
   "outputs": [
    {
     "name": "stdout",
     "output_type": "stream",
     "text": [
      "Accuracy:  80.0  %\n"
     ]
    }
   ],
   "source": [
    "predRidge = np.around(predRidge)\n",
    "print(\"Accuracy: \",(sklearn.metrics.accuracy_score(testY,predRidge))*100,\" %\")"
   ]
  },
  {
   "cell_type": "markdown",
   "metadata": {},
   "source": [
    "### Precision Score"
   ]
  },
  {
   "cell_type": "code",
   "execution_count": 19,
   "metadata": {},
   "outputs": [
    {
     "name": "stdout",
     "output_type": "stream",
     "text": [
      "===================\n",
      "Precision | F1 Scores: \n",
      "===================\n",
      "(array([0.        , 0.92307692, 0.8       , 0.        ]), array([0.        , 0.85714286, 0.66666667, 0.        ]), array([0.        , 0.88888889, 0.72727273, 0.        ]), array([ 0, 14,  6,  0], dtype=int64))\n"
     ]
    },
    {
     "name": "stderr",
     "output_type": "stream",
     "text": [
      "C:\\Users\\anshu\\Anaconda3\\lib\\site-packages\\sklearn\\metrics\\classification.py:1137: UndefinedMetricWarning: Recall and F-score are ill-defined and being set to 0.0 in labels with no true samples.\n",
      "  'recall', 'true', average, warn_for)\n"
     ]
    }
   ],
   "source": [
    "precision = (sklearn.metrics.precision_recall_fscore_support(testY,predRidge))\n",
    "print(\"===================\")\n",
    "print(\"Precision | F1 Scores: \")\n",
    "print(\"===================\")\n",
    "print(precision)"
   ]
  },
  {
   "cell_type": "markdown",
   "metadata": {},
   "source": [
    "### Confusion Matrix"
   ]
  },
  {
   "cell_type": "code",
   "execution_count": 20,
   "metadata": {},
   "outputs": [
    {
     "name": "stdout",
     "output_type": "stream",
     "text": [
      "================\n",
      "Confusion Matrix\n",
      "================\n",
      "[[ 0  0  0  0]\n",
      " [ 1 12  1  0]\n",
      " [ 0  1  4  1]\n",
      " [ 0  0  0  0]]\n"
     ]
    }
   ],
   "source": [
    "confusionMatrix = sklearn.metrics.confusion_matrix(testY,predRidge)\n",
    "\n",
    "print(\"================\")\n",
    "print(\"Confusion Matrix\")\n",
    "print(\"================\")\n",
    "print(confusionMatrix)"
   ]
  },
  {
   "cell_type": "markdown",
   "metadata": {},
   "source": [
    "# Task-B: Multiclass Classification"
   ]
  },
  {
   "cell_type": "markdown",
   "metadata": {},
   "source": [
    "### Reading Data"
   ]
  },
  {
   "cell_type": "code",
   "execution_count": 21,
   "metadata": {},
   "outputs": [],
   "source": [
    "MNISTData = pd.DataFrame(pd.read_csv(\"reduced_mnist.csv\"))"
   ]
  },
  {
   "cell_type": "code",
   "execution_count": 22,
   "metadata": {},
   "outputs": [
    {
     "name": "stdout",
     "output_type": "stream",
     "text": [
      "No. Of Data Points:  2520\n",
      "No Of Features:  785\n",
      "Unique labels in Data:  {0, 1, 2, 3, 4, 5, 6, 7, 8, 9}\n"
     ]
    }
   ],
   "source": [
    "print(\"No. Of Data Points: \",len(MNISTData))\n",
    "print(\"No Of Features: \",len(MNISTData.T))\n",
    "print(\"Unique labels in Data: \",set(MNISTData['label']))"
   ]
  },
  {
   "cell_type": "markdown",
   "metadata": {},
   "source": [
    "### Splitting the Data"
   ]
  },
  {
   "cell_type": "code",
   "execution_count": 23,
   "metadata": {},
   "outputs": [],
   "source": [
    "trainY = MNISTData['label']\n",
    "trainX = MNISTData.drop('label',axis = 1).copy()\n"
   ]
  },
  {
   "cell_type": "code",
   "execution_count": 24,
   "metadata": {},
   "outputs": [],
   "source": [
    "from sklearn.model_selection import train_test_split\n",
    "trainX, testX, trainY, testY = train_test_split(trainX,trainY,test_size = 0.3,random_state = 0)"
   ]
  },
  {
   "cell_type": "markdown",
   "metadata": {},
   "source": [
    "### Training using OneVsRest Classifier"
   ]
  },
  {
   "cell_type": "code",
   "execution_count": 25,
   "metadata": {},
   "outputs": [],
   "source": [
    "from sklearn.multiclass import OneVsRestClassifier\n",
    "from sklearn.svm import LinearSVC"
   ]
  },
  {
   "cell_type": "code",
   "execution_count": 26,
   "metadata": {},
   "outputs": [],
   "source": [
    "predictionsMNIST = OneVsRestClassifier(LinearSVC(random_state=0)).fit(trainX, trainY).predict(testX)"
   ]
  },
  {
   "cell_type": "code",
   "execution_count": 27,
   "metadata": {},
   "outputs": [],
   "source": [
    "score = np.sqrt(metrics.mean_squared_error(predictionsMNIST,testY))"
   ]
  },
  {
   "cell_type": "code",
   "execution_count": 28,
   "metadata": {},
   "outputs": [
    {
     "name": "stdout",
     "output_type": "stream",
     "text": [
      "Root Mean Squared Error:  1.9585655046433437\n"
     ]
    }
   ],
   "source": [
    "print(\"Root Mean Squared Error: \",score)"
   ]
  },
  {
   "cell_type": "markdown",
   "metadata": {},
   "source": [
    "### Accuracy Score"
   ]
  },
  {
   "cell_type": "code",
   "execution_count": 29,
   "metadata": {},
   "outputs": [
    {
     "name": "stdout",
     "output_type": "stream",
     "text": [
      "Accuracy:  80.95238095238095  %\n"
     ]
    }
   ],
   "source": [
    "print(\"Accuracy: \",(sklearn.metrics.accuracy_score(testY,predictionsMNIST))*100,\" %\")"
   ]
  },
  {
   "cell_type": "markdown",
   "metadata": {},
   "source": [
    "### Precision Score"
   ]
  },
  {
   "cell_type": "code",
   "execution_count": 30,
   "metadata": {},
   "outputs": [
    {
     "name": "stdout",
     "output_type": "stream",
     "text": [
      "===================\n",
      "Precision | F1 Scores: \n",
      "===================\n",
      "(array([0.91566265, 0.92857143, 0.78125   , 0.83116883, 0.78571429,\n",
      "       0.73239437, 0.93150685, 0.94545455, 0.55223881, 0.66666667]), array([0.9047619 , 0.96808511, 0.67567568, 0.82051282, 0.76744186,\n",
      "       0.69333333, 0.91891892, 0.78787879, 0.67272727, 0.8       ]), array([0.91017964, 0.94791667, 0.72463768, 0.82580645, 0.77647059,\n",
      "       0.71232877, 0.92517007, 0.85950413, 0.60655738, 0.72727273]), array([84, 94, 74, 78, 86, 75, 74, 66, 55, 70], dtype=int64))\n"
     ]
    }
   ],
   "source": [
    "precision = (sklearn.metrics.precision_recall_fscore_support(testY,predictionsMNIST))\n",
    "print(\"===================\")\n",
    "print(\"Precision | F1 Scores: \")\n",
    "print(\"===================\")\n",
    "print(precision)"
   ]
  },
  {
   "cell_type": "markdown",
   "metadata": {},
   "source": [
    "### Confusion Matrix"
   ]
  },
  {
   "cell_type": "code",
   "execution_count": 31,
   "metadata": {},
   "outputs": [
    {
     "name": "stdout",
     "output_type": "stream",
     "text": [
      "================\n",
      "Confusion Matrix\n",
      "================\n",
      "[[76  0  1  0  1  2  1  0  0  3]\n",
      " [ 0 91  0  0  0  0  0  0  3  0]\n",
      " [ 1  1 50  4  1  4  0  0 12  1]\n",
      " [ 0  0  2 64  0  6  1  1  0  4]\n",
      " [ 0  0  0  0 66  1  2  1  6 10]\n",
      " [ 3  2  0  7  2 52  1  0  4  4]\n",
      " [ 1  0  2  0  1  0 68  0  1  1]\n",
      " [ 1  0  4  1  3  0  0 52  1  4]\n",
      " [ 1  4  4  0  2  6  0  0 37  1]\n",
      " [ 0  0  1  1  8  0  0  1  3 56]]\n"
     ]
    }
   ],
   "source": [
    "confusionMatrix = sklearn.metrics.confusion_matrix(testY,predictionsMNIST)\n",
    "\n",
    "print(\"================\")\n",
    "print(\"Confusion Matrix\")\n",
    "print(\"================\")\n",
    "print(confusionMatrix)"
   ]
  },
  {
   "cell_type": "markdown",
   "metadata": {},
   "source": [
    "### 2.1 Choosing the best Hyperparameter"
   ]
  },
  {
   "cell_type": "code",
   "execution_count": 32,
   "metadata": {},
   "outputs": [],
   "source": [
    "import sklearn\n",
    "from sklearn.linear_model import Lasso\n",
    "from sklearn import linear_model\n",
    "alphaList = [0.1, 1, 3, 10, 33, 100, 333, 1000, 3333, 10000, 33333]\n",
    "crossValMeanScores = []\n",
    "for i in range(0,len(alphaList)):\n",
    "    lasso = linear_model.Lasso(alpha=alphaList[i])    \n",
    "    from sklearn.model_selection import cross_val_score\n",
    "    scores = cross_val_score(lasso, trainX, trainY, cv=10)\n",
    "    crossValMeanScores.append(np.mean(scores))\n",
    "minScore = min(crossValMeanScores)"
   ]
  },
  {
   "cell_type": "code",
   "execution_count": 33,
   "metadata": {},
   "outputs": [
    {
     "name": "stdout",
     "output_type": "stream",
     "text": [
      "The Best Alpha is:  1\n"
     ]
    }
   ],
   "source": [
    "indexMinScore = crossValMeanScores.index(minScore)\n",
    "bestAlpha = lambdaList[indexMinScore]\n",
    "print(\"The Best Alpha is: \",bestAlpha)"
   ]
  },
  {
   "cell_type": "code",
   "execution_count": 34,
   "metadata": {},
   "outputs": [
    {
     "name": "stdout",
     "output_type": "stream",
     "text": [
      "Mean Squared Error:  1.789227646764992\n"
     ]
    }
   ],
   "source": [
    "import sklearn \n",
    "from sklearn.linear_model import Lasso\n",
    "\n",
    "regressor = Lasso(random_state=0,alpha=bestAlpha)\n",
    "regressor.fit(trainX,trainY)\n",
    "predLasso = regressor.predict(testX)\n",
    "\n",
    "score = np.sqrt(metrics.mean_squared_error(predLasso,testY))\n",
    "\n",
    "print(\"Mean Squared Error: \",score)"
   ]
  },
  {
   "cell_type": "markdown",
   "metadata": {},
   "source": [
    "### Plotting "
   ]
  },
  {
   "cell_type": "code",
   "execution_count": 35,
   "metadata": {},
   "outputs": [],
   "source": [
    "import matplotlib.pyplot as plt\n",
    "\n",
    "regressor = Lasso(random_state=0,alpha=alphaList[0])\n",
    "regressor.fit(trainX,trainY)\n",
    "predLasso = regressor.predict(testX)\n",
    "score = np.sqrt(metrics.mean_squared_error(predLasso,testY))"
   ]
  },
  {
   "cell_type": "code",
   "execution_count": 59,
   "metadata": {},
   "outputs": [
    {
     "name": "stdout",
     "output_type": "stream",
     "text": [
      "11\n",
      "11\n"
     ]
    },
    {
     "data": {
      "text/plain": [
       "<matplotlib.collections.PathCollection at 0x1fed40e2c50>"
      ]
     },
     "execution_count": 59,
     "metadata": {},
     "output_type": "execute_result"
    },
    {
     "data": {
      "image/png": "[encoded data removed]",
      "text/plain": [
       "<matplotlib.figure.Figure at 0x1fed3fba8d0>"
      ]
     },
     "metadata": {},
     "output_type": "display_data"
    }
   ],
   "source": [
    "print(len(crossValMeanScores))\n",
    "print(len(alphaList))\n",
    "plt.scatter(crossValMeanScores,alphaList, color = 'red')\n"
   ]
  }
 ],
 "metadata": {
  "kernelspec": {
   "display_name": "Python 3",
   "language": "python",
   "name": "python3"
  },
  "language_info": {
   "codemirror_mode": {
    "name": "ipython",
    "version": 3
   },
   "file_extension": ".py",
   "mimetype": "text/x-python",
   "name": "python",
   "nbconvert_exporter": "python",
   "pygments_lexer": "ipython3",
   "version": "3.6.4"
  }
 },
 "nbformat": 4,
 "nbformat_minor": 2
}
